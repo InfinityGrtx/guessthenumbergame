{
  "cells": [
    {
      "cell_type": "code",
      "execution_count": null,
      "metadata": {
        "colab": {
          "base_uri": "https://localhost:8080/"
        },
        "id": "_DvWCME4JIzK",
        "outputId": "aadc1016-f93c-4fff-a3df-9d33a9399341"
      },
      "outputs": [],
      "source": [
        "import random\n",
        "userin = int(input(\"what number should it be between? \"))\n",
        "number = int(random.random() * userin)\n",
        "iscorrect= 0\n",
        "while iscorrect == 0:\n",
        "  guess = int(input(\"what is your guess? \"))\n",
        "  if guess < number:\n",
        "    print(\"your guess is lower then the number\")  \n",
        "  elif guess > number:\n",
        "    print(\"your guess is higher then the number\")\n",
        "  elif guess == number:\n",
        "    print(\"your guess is correct!\")\n",
        "    iscorrect = 1\n",
        "  \n"
      ]
    }
  ],
  "metadata": {
    "colab": {
      "name": "guessthenumber.ipynb",
      "provenance": []
    },
    "kernelspec": {
      "display_name": "Python 3",
      "name": "python3"
    },
    "language_info": {
      "name": "python"
    }
  },
  "nbformat": 4,
  "nbformat_minor": 0
}
